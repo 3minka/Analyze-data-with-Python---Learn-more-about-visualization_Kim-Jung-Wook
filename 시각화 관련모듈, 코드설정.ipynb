{
 "cells": [
  {
   "cell_type": "code",
   "execution_count": null,
   "id": "0e31274a",
   "metadata": {},
   "outputs": [],
   "source": [
    "import pandas as pd\n",
    "\n",
    "# 시각화를 화면에 보여주는 코드\n",
    "%matplotlib inline\n",
    "\n",
    "import seaborn as sns\n",
    "\n",
    "import matplotlib.pyplot as plt\n",
    "\n",
    "# 그래프 설정을 위한 모듈\n",
    "import matplotlib as mlp\n",
    "\n",
    "# 한글지원을 위해 나눔고딕 폰트로 설정\n",
    "# 다운 받아야 함\n",
    "plt.rcParams['font.family'] = 'NanumGothic'\n",
    "\n",
    "# 그래프의 크기 설정\n",
    "plt.rcParams['figure.figsize'] = (12, 6)\n",
    "\n",
    "import warnings\n",
    "warnings.filterwarnings('ignore')"
   ]
  },
  {
   "cell_type": "code",
   "execution_count": null,
   "id": "6f116e1b",
   "metadata": {},
   "outputs": [],
   "source": []
  },
  {
   "cell_type": "code",
   "execution_count": null,
   "id": "675cd5bc",
   "metadata": {},
   "outputs": [],
   "source": [
    "dt={'날짜':['2020-01','2020-02','2020-03','2020-04','2020-05','2020-06'], '서울':[956,972,934,922,910,901],'경기':[1102, 1111, 1234,1312,1333,1298]}\n",
    "df=pd.DataFrame(dt)\n",
    "df=df.set_index(df['날짜'])\n",
    "df"
   ]
  },
  {
   "cell_type": "code",
   "execution_count": null,
   "id": "a2588715",
   "metadata": {},
   "outputs": [],
   "source": [
    "# 디폴트로 x축은 인덱스, y축은 컬럼으로 설정됩니다.\n",
    "\n",
    "df.plot()"
   ]
  },
  {
   "cell_type": "code",
   "execution_count": null,
   "id": "a9897900",
   "metadata": {},
   "outputs": [],
   "source": [
    "# 서울 컬럼의 데이터를 막대그래프로 표현합니다.\n",
    "\n",
    "df['서울'].plot.bar()"
   ]
  },
  {
   "cell_type": "code",
   "execution_count": null,
   "id": "7fe892c7",
   "metadata": {},
   "outputs": [],
   "source": [
    "# 모든 컬럼의 데이터를 막대그래프로 표현합니다.\n",
    "\n",
    "df.plot.bar()"
   ]
  },
  {
   "cell_type": "code",
   "execution_count": null,
   "id": "2d40c91c",
   "metadata": {},
   "outputs": [],
   "source": [
    "# 모든 컬럼의 데이터를 히스토그램으로 표현합니다.\n",
    "\n",
    "df.plot.hist()"
   ]
  },
  {
   "cell_type": "code",
   "execution_count": null,
   "id": "a70eda2e",
   "metadata": {},
   "outputs": [],
   "source": [
    "# 컬럼의 데이터를 산점도로 표현합니다.\n",
    "# x축은 날짜, y축은 서울 컬럼 데이터입니다.\n",
    "\n",
    "df.plot.scatter(x='날짜', y='서울')"
   ]
  },
  {
   "cell_type": "code",
   "execution_count": null,
   "id": "e4e841d5",
   "metadata": {},
   "outputs": [],
   "source": [
    "df.plot(kind='scatter',x='날짜', y='서울', c='red',s=100)"
   ]
  },
  {
   "cell_type": "code",
   "execution_count": null,
   "id": "154d4212",
   "metadata": {},
   "outputs": [],
   "source": [
    "df.plot(kind='scatter',x='날짜', y='서울', c='blue',s=100 , marker='+')"
   ]
  },
  {
   "cell_type": "code",
   "execution_count": null,
   "id": "f8f2af46",
   "metadata": {},
   "outputs": [],
   "source": [
    "# 컬럼의 데이터를 박스그래프로 표현합니다.\n",
    "\n",
    "df.plot.box()"
   ]
  },
  {
   "cell_type": "code",
   "execution_count": null,
   "id": "de068df8",
   "metadata": {},
   "outputs": [],
   "source": [
    "# x축은 '날짜', y축은 서울 컬럼으로 설정합니다.\n",
    "\n",
    "plt.plot(df['날짜'], df['서울'])"
   ]
  },
  {
   "cell_type": "code",
   "execution_count": null,
   "id": "43c69ebd",
   "metadata": {},
   "outputs": [],
   "source": [
    "# 그래프 크기 설정\n",
    "plt.figure(figsize=(14,5))\n",
    "\n",
    "plt.plot(df['날짜'], df['서울'])\n",
    "\n",
    "# 그래프 이름 설정\n",
    "plt.title('2020년 서울')\n",
    "\n",
    "# X축 이름 설정\n",
    "plt.xlabel('기간')\n",
    "\n",
    "# Y축 이름 설정\n",
    "plt.ylabel('인구수')\n",
    "\n",
    "# X축 라벨 크기, 회전 설정\n",
    "plt.xticks(size=20, rotation=45)\n",
    "\n",
    "# 범례 표시\n",
    "plt.legend(labels=['서울 인구 변화'])\n",
    "\n",
    "plt.show()"
   ]
  },
  {
   "cell_type": "code",
   "execution_count": null,
   "id": "00b3d6fe",
   "metadata": {},
   "outputs": [],
   "source": [
    "# 그래프 크기 설정\n",
    "plt.figure(figsize=(14,5))\n",
    "\n",
    "plt.plot(df['날짜'], df['서울'], marker='o', markersize=10, color='red')\n",
    "\n",
    "# 그래프 이름 설정\n",
    "plt.title('2020년 서울')\n",
    "\n",
    "# X축 이름 설정\n",
    "plt.xlabel('기간', size=20)\n",
    "\n",
    "# Y축 이름 설정\n",
    "plt.ylabel('인구수')\n",
    "\n",
    "# X축 라벨 크기, 회전 설정\n",
    "plt.xticks(size=20, rotation=45)\n",
    "\n",
    "# 범례 표시\n",
    "plt.legend(labels=['서울 인구 변화'], loc='best', fontsize=15)\n",
    "\n",
    "plt.show()"
   ]
  },
  {
   "cell_type": "code",
   "execution_count": null,
   "id": "c4cbdeb1",
   "metadata": {},
   "outputs": [],
   "source": [
    "fig=plt.figure(figsize=(10,10))\n",
    "\n",
    "ax1=fig.add_subplot(2,1,1)\n",
    "ax2=fig.add_subplot(2,1,2)\n",
    "\n",
    "ax1.plot(df['서울'])\n",
    "ax2.plot(df['경기'], marker='o', color='yellow')\n",
    "\n",
    "ax1.legend(labels=['서울 인구 변화'], loc='best')\n",
    "ax2.legend(labels=['경기 인구 변화'], loc='best')\n",
    "\n",
    "plt.show()"
   ]
  },
  {
   "cell_type": "code",
   "execution_count": null,
   "id": "ec1a67b5",
   "metadata": {},
   "outputs": [],
   "source": [
    "dt={'날짜':['2020-01','2020-02','2020-03','2020-04','2020-05','2020-06'], \n",
    "    '서울':[956,972,934,922,910,901],'경기':[1102, 1111, 1234,1312,1333,1298],\n",
    "    '부산':[352,335,312,325,342,319], '광주':[165,172,181,170,169,173]\n",
    "   }\n",
    "df=pd.DataFrame(dt)\n",
    "df=df.set_index(df['날짜'])\n",
    "df"
   ]
  },
  {
   "cell_type": "code",
   "execution_count": null,
   "id": "80e5d3b6",
   "metadata": {},
   "outputs": [],
   "source": [
    "fig=plt.figure(figsize=(10,10))\n",
    "\n",
    "ax1=fig.add_subplot(2,2,1)\n",
    "ax2=fig.add_subplot(2,2,2)\n",
    "ax3=fig.add_subplot(2,2,3)\n",
    "ax4=fig.add_subplot(2,2,4)\n",
    "\n",
    "ax1.plot(df['서울'], marker='o', color='blue')\n",
    "ax2.plot(df['경기'], marker='o', color='yellow')\n",
    "ax3.plot(df['부산'], marker='o', color='red')\n",
    "ax4.plot(df['광주'], marker='o', color='green')\n",
    "\n",
    "ax1.legend(labels=['서울 인구 변화'], loc='best')\n",
    "ax2.legend(labels=['경기 인구 변화'], loc='best')\n",
    "ax3.legend(labels=['부산 인구 변화'], loc='best')\n",
    "ax4.legend(labels=['광주 인구 변화'], loc='best')\n",
    "\n",
    "plt.show()"
   ]
  },
  {
   "cell_type": "code",
   "execution_count": null,
   "id": "0b39a308",
   "metadata": {},
   "outputs": [],
   "source": [
    "df.plot(kind='area')"
   ]
  },
  {
   "cell_type": "code",
   "execution_count": null,
   "id": "c575c53d",
   "metadata": {},
   "outputs": [],
   "source": [
    "df.plot(kind='area', stacked=False, alpha=0.2)"
   ]
  },
  {
   "cell_type": "code",
   "execution_count": null,
   "id": "672fe38b",
   "metadata": {},
   "outputs": [],
   "source": [
    "df.plot(kind='area', stacked=False, alpha=0.2, figsize=(10,5))\n",
    "plt.title('도시 인구수', size=30)\n",
    "plt.ylabel('인구수')\n",
    "plt.xlabel('기간')\n",
    "\n",
    "plt.show()"
   ]
  },
  {
   "cell_type": "code",
   "execution_count": null,
   "id": "86daabab",
   "metadata": {},
   "outputs": [],
   "source": [
    "df.plot(kind='bar', width=0.7, color=['blue', 'yellow', 'red', 'green'])"
   ]
  },
  {
   "cell_type": "code",
   "execution_count": null,
   "id": "9fd51b58",
   "metadata": {},
   "outputs": [],
   "source": [
    "df.plot(kind='barh', width=0.7, color=['blue', 'yellow', 'red', 'green'])"
   ]
  },
  {
   "cell_type": "code",
   "execution_count": null,
   "id": "87f07be8",
   "metadata": {},
   "outputs": [],
   "source": [
    "tt=sns.load_dataset('titanic')\n",
    "tt.head()"
   ]
  },
  {
   "cell_type": "code",
   "execution_count": null,
   "id": "ba763c32",
   "metadata": {},
   "outputs": [],
   "source": [
    "tt['embarked'].value_counts()"
   ]
  },
  {
   "cell_type": "code",
   "execution_count": null,
   "id": "69041ca2",
   "metadata": {},
   "outputs": [],
   "source": [
    "em_pie=tt['embarked'].value_counts()\n",
    "em_pie.plot(kind='pie')"
   ]
  },
  {
   "cell_type": "code",
   "execution_count": null,
   "id": "c77d3df8",
   "metadata": {},
   "outputs": [],
   "source": [
    "em_pie.plot(kind='pie', autopct='%1.1f%%')"
   ]
  },
  {
   "cell_type": "code",
   "execution_count": null,
   "id": "50bf583d",
   "metadata": {},
   "outputs": [],
   "source": [
    "em_pie.plot(kind='pie', autopct='%1.1f%%', figsize=(10,6))"
   ]
  },
  {
   "cell_type": "code",
   "execution_count": null,
   "id": "3a43e21b",
   "metadata": {},
   "outputs": [],
   "source": [
    "# x 축에는 'embarked' 컬럼을 설정합니다. y축은 해당 컬럼내 데이터의 빈도수가 표시됩니다.\n",
    "\n",
    "sns.countplot(data=tt, x='embarked')"
   ]
  },
  {
   "cell_type": "code",
   "execution_count": null,
   "id": "360d6f03",
   "metadata": {},
   "outputs": [],
   "source": [
    "# swarmplot은 x축 데이터와 y축 데이터 간의 관계를 점으로 표시합니다.\n",
    "\n",
    "sns.swarmplot(data=tt, x='pclass', y='age')"
   ]
  },
  {
   "cell_type": "code",
   "execution_count": null,
   "id": "0588d91c",
   "metadata": {},
   "outputs": [],
   "source": [
    "plt.figure(figsize=(10,5))\n",
    "\n",
    "sns.swarmplot(data=tt, x='pclass', y='age')"
   ]
  },
  {
   "cell_type": "code",
   "execution_count": null,
   "id": "92129bf4",
   "metadata": {},
   "outputs": [],
   "source": [
    "# violinplot은 x축 데이터와 y축 데이터 간의 관계를 면적으로 표시합니다.\n",
    "\n",
    "sns.violinplot(data=tt, x='pclass', y='age')"
   ]
  },
  {
   "cell_type": "code",
   "execution_count": null,
   "id": "526416fe",
   "metadata": {},
   "outputs": [],
   "source": [
    "# X축에는 'sex'컬럼 데이터, Y축에는 'sex'컬럼 데이터에 매칭하는 'survived'컬럼 값들의 평균값을 보여줍니다.\n",
    "\n",
    "# 검은색 작대기는 무엇일까요? 검은색 작대기는 분산을 의미합니다.\n",
    "\n",
    "# 검은색 작대기가 길수록 해당 데이터의 값의 분산이 크다는 이야기입니다.\n",
    "\n",
    "sns.barplot(data=tt, x='sex', y='survived')"
   ]
  },
  {
   "cell_type": "code",
   "execution_count": null,
   "id": "5c435df5",
   "metadata": {},
   "outputs": [],
   "source": [
    "sns.barplot(data=tt, x='sex', y='survived', hue='pclass')"
   ]
  },
  {
   "cell_type": "code",
   "execution_count": null,
   "id": "1ae34e0c",
   "metadata": {},
   "outputs": [],
   "source": [
    "plt.figure(figsize=(24, 9))\n",
    "\n",
    "sns.barplot(data=tt, x='sex', y='survived', hue='pclass')\n",
    "plt.title('성별 생존자 평균')\n",
    "plt.ylabel('생존자 평균', size=20)\n",
    "plt.xticks(rotation=45)\n",
    "mlp.rcParams['font.size'] = 20"
   ]
  },
  {
   "cell_type": "code",
   "execution_count": null,
   "id": "c647e70b",
   "metadata": {},
   "outputs": [],
   "source": [
    "# X축에는 'SibSp'컬럼 데이터, Y축에는 'Survived'컬럼 데이터에 매칭해서 선 그래프를 보여줍니다.\n",
    "\n",
    "sns.pointplot(data=tt, x='sibsp', y='survived')"
   ]
  },
  {
   "cell_type": "code",
   "execution_count": null,
   "id": "f9af2168",
   "metadata": {},
   "outputs": [],
   "source": [
    "sns.pointplot(data=tt, x='sibsp', y='survived', hue='sex')"
   ]
  },
  {
   "cell_type": "code",
   "execution_count": null,
   "id": "1c6a01d8",
   "metadata": {},
   "outputs": [],
   "source": [
    "# X축에는 'age'컬럼 데이터, Y축에는 'age'컬럼 데이터에 매칭하는 'fare'컬럼 값들을 점으로 보여줍니다.\n",
    "\n",
    "sns.scatterplot(data=tt, x='age', y='fare')"
   ]
  },
  {
   "cell_type": "code",
   "execution_count": null,
   "id": "ce3945d3",
   "metadata": {},
   "outputs": [],
   "source": [
    "sns.scatterplot(data=tt, x='age', y='fare', hue='sex')"
   ]
  },
  {
   "cell_type": "code",
   "execution_count": null,
   "id": "455ca081",
   "metadata": {},
   "outputs": [],
   "source": [
    "# X축에는 'age'컬럼 데이터, Y축에는 'age'컬럼 데이터에 매칭하는 'fare'컬럼 값들을 점으로 보여줍니다. 회귀선을 볼 수 있습니다.\n",
    "\n",
    "sns.lmplot(data=tt, x='age', y='fare')"
   ]
  },
  {
   "cell_type": "code",
   "execution_count": null,
   "id": "976394c9",
   "metadata": {},
   "outputs": [],
   "source": [
    "sns.lmplot(data=tt, x='age', y='fare',  fit_reg=False)"
   ]
  },
  {
   "cell_type": "code",
   "execution_count": null,
   "id": "4ae21075",
   "metadata": {},
   "outputs": [],
   "source": [
    "sns.lmplot(data=tt, x='age', y='fare', hue='sex')"
   ]
  },
  {
   "cell_type": "code",
   "execution_count": null,
   "id": "2d35dd15",
   "metadata": {},
   "outputs": [],
   "source": [
    "sns.boxplot(data=tt, x='sex', y='age')"
   ]
  },
  {
   "cell_type": "code",
   "execution_count": null,
   "id": "a3ea20a0",
   "metadata": {},
   "outputs": [],
   "source": [
    "sns.boxplot(data=tt, x='sex', y='age', hue='pclass')"
   ]
  },
  {
   "cell_type": "code",
   "execution_count": null,
   "id": "5d45eb9d",
   "metadata": {},
   "outputs": [],
   "source": [
    "figure, ((ax1, ax2), (ax3, ax4), (ax5, ax6)) = plt.subplots(nrows=3, ncols=2)\n",
    "\n",
    "figure.set_size_inches(18, 12)\n",
    "\n",
    "mlp.rcParams['font.size'] = 5\n",
    "\n",
    "sns.barplot(data=tt, x='sex', y='survived', ax=ax1)\n",
    "sns.barplot(data=tt, x='pclass', y='survived', ax=ax2)\n",
    "sns.barplot(data=tt, x='embarked', y='survived', ax=ax3)\n",
    "sns.barplot(data=tt, x='sibsp', y='survived', ax=ax4)\n",
    "sns.barplot(data=tt, x='parch', y='survived', ax=ax5)\n",
    "sns.scatterplot(data=tt, x='fare', y='age', ax=ax6)"
   ]
  },
  {
   "cell_type": "code",
   "execution_count": null,
   "id": "bda2fdad",
   "metadata": {},
   "outputs": [],
   "source": [
    "# 행과 열로 구분할 컬럼을 설정합니다.\n",
    "\n",
    "# plt.hist으로 옵션을 설정하면 히스토그램으로 표시됩니다.\n",
    "\n",
    "g=sns.FacetGrid(data=tt, col='sex', row='survived')\n",
    "\n",
    "g.map(plt.hist, 'age')"
   ]
  },
  {
   "cell_type": "code",
   "execution_count": null,
   "id": "b407dd0a",
   "metadata": {},
   "outputs": [],
   "source": [
    "g=sns.FacetGrid(data=tt, col='sex', row='survived')\n",
    "g.map(plt.scatter, 'age', 'fare')"
   ]
  },
  {
   "cell_type": "code",
   "execution_count": null,
   "id": "d4332858",
   "metadata": {},
   "outputs": [],
   "source": [
    "sns.distplot(tt['fare'])"
   ]
  },
  {
   "cell_type": "code",
   "execution_count": null,
   "id": "7020225a",
   "metadata": {},
   "outputs": [],
   "source": [
    "sns.distplot(tt['fare'], hist=False)"
   ]
  },
  {
   "cell_type": "code",
   "execution_count": null,
   "id": "f197161e",
   "metadata": {},
   "outputs": [],
   "source": [
    "sns.distplot(tt['fare'], kde=False)"
   ]
  },
  {
   "cell_type": "code",
   "execution_count": null,
   "id": "7932b77e",
   "metadata": {},
   "outputs": [],
   "source": [
    "tt.corr()"
   ]
  },
  {
   "cell_type": "code",
   "execution_count": null,
   "id": "e4d6045d",
   "metadata": {},
   "outputs": [],
   "source": [
    "sns.heatmap(tt.corr())"
   ]
  },
  {
   "cell_type": "code",
   "execution_count": null,
   "id": "54b22955",
   "metadata": {},
   "outputs": [],
   "source": []
  }
 ],
 "metadata": {
  "kernelspec": {
   "display_name": "Python 3 (ipykernel)",
   "language": "python",
   "name": "python3"
  },
  "language_info": {
   "codemirror_mode": {
    "name": "ipython",
    "version": 3
   },
   "file_extension": ".py",
   "mimetype": "text/x-python",
   "name": "python",
   "nbconvert_exporter": "python",
   "pygments_lexer": "ipython3",
   "version": "3.8.12"
  }
 },
 "nbformat": 4,
 "nbformat_minor": 5
}
